{
 "cells": [
  {
   "cell_type": "markdown",
   "id": "660cb007-0e93-4c14-8ec7-bf55206d9f36",
   "metadata": {},
   "source": [
    "## AdaBoost Tutorial"
   ]
  },
  {
   "cell_type": "markdown",
   "id": "41a6d92f-2472-43d2-be26-b9a0b94c255f",
   "metadata": {},
   "source": [
    "## Install requirements"
   ]
  },
  {
   "cell_type": "code",
   "execution_count": 2,
   "id": "a73876e0-cae1-483a-91df-8aa9f683ba7d",
   "metadata": {},
   "outputs": [
    {
     "name": "stdout",
     "output_type": "stream",
     "text": [
      "Requirement already satisfied: pandas in c:\\users\\z004j58u\\appdata\\local\\programs\\python\\python310\\lib\\site-packages (1.4.3)\n",
      "Requirement already satisfied: python-dateutil>=2.8.1 in c:\\users\\z004j58u\\appdata\\local\\programs\\python\\python310\\lib\\site-packages (from pandas) (2.8.2)\n",
      "Requirement already satisfied: pytz>=2020.1 in c:\\users\\z004j58u\\appdata\\local\\programs\\python\\python310\\lib\\site-packages (from pandas) (2022.1)\n",
      "Requirement already satisfied: numpy>=1.21.0 in c:\\users\\z004j58u\\appdata\\local\\programs\\python\\python310\\lib\\site-packages (from pandas) (1.23.0)\n",
      "Requirement already satisfied: six>=1.5 in c:\\users\\z004j58u\\appdata\\local\\programs\\python\\python310\\lib\\site-packages (from python-dateutil>=2.8.1->pandas) (1.16.0)\n",
      "\n",
      "[notice] A new release of pip available: 22.1.2 -> 22.2.1\n",
      "[notice] To update, run: C:\\Users\\z004j58u\\AppData\\Local\\Programs\\Python\\Python310\\python.exe -m pip install --upgrade pip\n",
      "Requirement already satisfied: numpy in c:\\users\\z004j58u\\appdata\\local\\programs\\python\\python310\\lib\\site-packages (1.23.0)\n",
      "\n",
      "[notice] A new release of pip available: 22.1.2 -> 22.2.1\n",
      "[notice] To update, run: C:\\Users\\z004j58u\\AppData\\Local\\Programs\\Python\\Python310\\python.exe -m pip install --upgrade pip\n"
     ]
    }
   ],
   "source": [
    "!pip install pandas\n",
    "!pip install numpy"
   ]
  },
  {
   "cell_type": "markdown",
   "id": "aac7ba3c-eaff-4b84-bb2e-7271df4c2148",
   "metadata": {},
   "source": [
    "## Load data set"
   ]
  },
  {
   "cell_type": "markdown",
   "id": "428df758-762c-413c-b97c-86727fd87c5d",
   "metadata": {},
   "source": [
    "Dataset source:\n",
    "\n",
    "* https://archive.ics.uci.edu/ml/machine-learning-databases/adult/"
   ]
  },
  {
   "cell_type": "markdown",
   "id": "38153ec3-9d25-488d-b6c4-83b1ae4fa456",
   "metadata": {},
   "source": [
    "Dataset attributes:\n",
    "\n",
    "* age: continuous.\n",
    "* workclass: Private, Self-emp-not-inc, Self-emp-inc, Federal-gov, Local-gov, State-gov, Without-pay, Never-worked.\n",
    "* fnlwgt: continuous.\n",
    "* education: Bachelors, Some-college, 11th, HS-grad, Prof-school, Assoc-acdm, Assoc-voc, 9th, 7th-8th, 12th, Masters, 1st-4th, 10th, Doctorate, 5th-6th, Preschool.\n",
    "* education-num: continuous.\n",
    "* marital-status: Married-civ-spouse, Divorced, Never-married, Separated, Widowed, Married-spouse-absent, Married-AF-spouse.\n",
    "* occupation: Tech-support, Craft-repair, Other-service, Sales, Exec-managerial, Prof-specialty, Handlers-cleaners, Machine-op-inspct, Adm-clerical, Farming-fishing, Transport-moving, Priv-house-serv, Protective-serv, Armed-Forces.\n",
    "* relationship: Wife, Own-child, Husband, Not-in-family, Other-relative, Unmarried.\n",
    "* race: White, Asian-Pac-Islander, Amer-Indian-Eskimo, Other, Black.\n",
    "* sex: Female, Male.\n",
    "* capital-gain: continuous.\n",
    "* capital-loss: continuous.\n",
    "* hours-per-week: continuous.\n",
    "* native-country: United-States, Cambodia, England, Puerto-Rico, Canada, Germany, Outlying-US(Guam-USVI-etc), India, Japan, Greece, South, China, Cuba, Iran, Honduras, Philippines, Italy, Poland, Jamaica, Vietnam, Mexico, Portugal, Ireland, France, Dominican-Republic, Laos, Ecuador, Taiwan, Haiti, Columbia, Hungary, Guatemala, Nicaragua, Scotland, Thailand, Yugoslavia, El-Salvador, Trinadad&Tobago, Peru, Hong, Holand-Netherlands."
   ]
  },
  {
   "cell_type": "code",
   "execution_count": 3,
   "id": "a5fd5336-2845-4332-94db-02a4eae7571b",
   "metadata": {},
   "outputs": [
    {
     "data": {
      "text/html": [
       "<div>\n",
       "<style scoped>\n",
       "    .dataframe tbody tr th:only-of-type {\n",
       "        vertical-align: middle;\n",
       "    }\n",
       "\n",
       "    .dataframe tbody tr th {\n",
       "        vertical-align: top;\n",
       "    }\n",
       "\n",
       "    .dataframe thead th {\n",
       "        text-align: right;\n",
       "    }\n",
       "</style>\n",
       "<table border=\"1\" class=\"dataframe\">\n",
       "  <thead>\n",
       "    <tr style=\"text-align: right;\">\n",
       "      <th></th>\n",
       "      <th>age</th>\n",
       "      <th>workclass</th>\n",
       "      <th>fnlwgt</th>\n",
       "      <th>education</th>\n",
       "      <th>education-num</th>\n",
       "      <th>marital-status</th>\n",
       "      <th>occupation</th>\n",
       "      <th>relationship</th>\n",
       "      <th>race</th>\n",
       "      <th>sex</th>\n",
       "      <th>capital-gain</th>\n",
       "      <th>capital-loss</th>\n",
       "      <th>hours-per-week</th>\n",
       "      <th>native-country</th>\n",
       "      <th>income</th>\n",
       "    </tr>\n",
       "  </thead>\n",
       "  <tbody>\n",
       "    <tr>\n",
       "      <th>0</th>\n",
       "      <td>39</td>\n",
       "      <td>State-gov</td>\n",
       "      <td>77516</td>\n",
       "      <td>Bachelors</td>\n",
       "      <td>13</td>\n",
       "      <td>Never-married</td>\n",
       "      <td>Adm-clerical</td>\n",
       "      <td>Not-in-family</td>\n",
       "      <td>White</td>\n",
       "      <td>Male</td>\n",
       "      <td>2174</td>\n",
       "      <td>0</td>\n",
       "      <td>40</td>\n",
       "      <td>United-States</td>\n",
       "      <td>&lt;=50K</td>\n",
       "    </tr>\n",
       "    <tr>\n",
       "      <th>1</th>\n",
       "      <td>50</td>\n",
       "      <td>Self-emp-not-inc</td>\n",
       "      <td>83311</td>\n",
       "      <td>Bachelors</td>\n",
       "      <td>13</td>\n",
       "      <td>Married-civ-spouse</td>\n",
       "      <td>Exec-managerial</td>\n",
       "      <td>Husband</td>\n",
       "      <td>White</td>\n",
       "      <td>Male</td>\n",
       "      <td>0</td>\n",
       "      <td>0</td>\n",
       "      <td>13</td>\n",
       "      <td>United-States</td>\n",
       "      <td>&lt;=50K</td>\n",
       "    </tr>\n",
       "    <tr>\n",
       "      <th>2</th>\n",
       "      <td>38</td>\n",
       "      <td>Private</td>\n",
       "      <td>215646</td>\n",
       "      <td>HS-grad</td>\n",
       "      <td>9</td>\n",
       "      <td>Divorced</td>\n",
       "      <td>Handlers-cleaners</td>\n",
       "      <td>Not-in-family</td>\n",
       "      <td>White</td>\n",
       "      <td>Male</td>\n",
       "      <td>0</td>\n",
       "      <td>0</td>\n",
       "      <td>40</td>\n",
       "      <td>United-States</td>\n",
       "      <td>&lt;=50K</td>\n",
       "    </tr>\n",
       "  </tbody>\n",
       "</table>\n",
       "</div>"
      ],
      "text/plain": [
       "   age          workclass  fnlwgt   education  education-num  \\\n",
       "0   39          State-gov   77516   Bachelors             13   \n",
       "1   50   Self-emp-not-inc   83311   Bachelors             13   \n",
       "2   38            Private  215646     HS-grad              9   \n",
       "\n",
       "        marital-status          occupation    relationship    race    sex  \\\n",
       "0        Never-married        Adm-clerical   Not-in-family   White   Male   \n",
       "1   Married-civ-spouse     Exec-managerial         Husband   White   Male   \n",
       "2             Divorced   Handlers-cleaners   Not-in-family   White   Male   \n",
       "\n",
       "   capital-gain  capital-loss  hours-per-week  native-country  income  \n",
       "0          2174             0              40   United-States   <=50K  \n",
       "1             0             0              13   United-States   <=50K  \n",
       "2             0             0              40   United-States   <=50K  "
      ]
     },
     "metadata": {},
     "output_type": "display_data"
    },
    {
     "name": "stdout",
     "output_type": "stream",
     "text": [
      "Lenght of the whole dataset: 32561\n"
     ]
    }
   ],
   "source": [
    "import pandas as pd\n",
    "\n",
    "df = pd.read_csv(\"https://archive.ics.uci.edu/ml/machine-learning-databases/adult/adult.data\",\n",
    "                 names = [\"age\", \n",
    "                            \"workclass\", \n",
    "                            \"fnlwgt\", \n",
    "                            \"education\", \n",
    "                            \"education-num\", \n",
    "                            \"marital-status\", \n",
    "                            \"occupation\", \n",
    "                            \"relationship\",\n",
    "                            \"race\", \n",
    "                            \"sex\", \n",
    "                            \"capital-gain\", \n",
    "                            \"capital-loss\", \n",
    "                            \"hours-per-week\", \n",
    "                            \"native-country\", \n",
    "                            \"income\"], \n",
    "                 index_col=False)\n",
    "\n",
    "display(df.head(3))\n",
    "print(f\"Lenght of the whole dataset: {len(df)}\")"
   ]
  },
  {
   "cell_type": "markdown",
   "id": "16851d81-096b-408d-9115-c59f71616529",
   "metadata": {},
   "source": [
    "## Simplify the dataset\n",
    "\n",
    "The following code creates a simplified version of the dataset to make the following explanations more comprehensible\n",
    "\n",
    "Attributes:\n",
    "\n",
    "* Is the person older than 50? - Yes/No\n",
    "* Is the person male? - Yes/No\n",
    "* Does the person works more than 40 hours per week? - Yes/No\n",
    "\n",
    "Target variable:\n",
    "\n",
    "* Does the person earn more than 50 000 Dollar? - Yes/No"
   ]
  },
  {
   "cell_type": "code",
   "execution_count": 4,
   "id": "96108f20-ec18-41cd-83ba-5ceda2891d97",
   "metadata": {},
   "outputs": [
    {
     "data": {
      "text/html": [
       "<div>\n",
       "<style scoped>\n",
       "    .dataframe tbody tr th:only-of-type {\n",
       "        vertical-align: middle;\n",
       "    }\n",
       "\n",
       "    .dataframe tbody tr th {\n",
       "        vertical-align: top;\n",
       "    }\n",
       "\n",
       "    .dataframe thead th {\n",
       "        text-align: right;\n",
       "    }\n",
       "</style>\n",
       "<table border=\"1\" class=\"dataframe\">\n",
       "  <thead>\n",
       "    <tr style=\"text-align: right;\">\n",
       "      <th></th>\n",
       "      <th>male</th>\n",
       "      <th>&gt;40 hours</th>\n",
       "      <th>&gt;50 years</th>\n",
       "      <th>&gt;50k income</th>\n",
       "    </tr>\n",
       "  </thead>\n",
       "  <tbody>\n",
       "    <tr>\n",
       "      <th>0</th>\n",
       "      <td>Yes</td>\n",
       "      <td>No</td>\n",
       "      <td>No</td>\n",
       "      <td>No</td>\n",
       "    </tr>\n",
       "    <tr>\n",
       "      <th>1</th>\n",
       "      <td>Yes</td>\n",
       "      <td>No</td>\n",
       "      <td>No</td>\n",
       "      <td>No</td>\n",
       "    </tr>\n",
       "    <tr>\n",
       "      <th>2</th>\n",
       "      <td>Yes</td>\n",
       "      <td>No</td>\n",
       "      <td>No</td>\n",
       "      <td>No</td>\n",
       "    </tr>\n",
       "    <tr>\n",
       "      <th>3</th>\n",
       "      <td>Yes</td>\n",
       "      <td>No</td>\n",
       "      <td>Yes</td>\n",
       "      <td>No</td>\n",
       "    </tr>\n",
       "    <tr>\n",
       "      <th>4</th>\n",
       "      <td>No</td>\n",
       "      <td>No</td>\n",
       "      <td>No</td>\n",
       "      <td>No</td>\n",
       "    </tr>\n",
       "    <tr>\n",
       "      <th>5</th>\n",
       "      <td>No</td>\n",
       "      <td>No</td>\n",
       "      <td>No</td>\n",
       "      <td>No</td>\n",
       "    </tr>\n",
       "    <tr>\n",
       "      <th>6</th>\n",
       "      <td>No</td>\n",
       "      <td>No</td>\n",
       "      <td>No</td>\n",
       "      <td>No</td>\n",
       "    </tr>\n",
       "    <tr>\n",
       "      <th>7</th>\n",
       "      <td>Yes</td>\n",
       "      <td>Yes</td>\n",
       "      <td>Yes</td>\n",
       "      <td>Yes</td>\n",
       "    </tr>\n",
       "    <tr>\n",
       "      <th>8</th>\n",
       "      <td>No</td>\n",
       "      <td>Yes</td>\n",
       "      <td>No</td>\n",
       "      <td>Yes</td>\n",
       "    </tr>\n",
       "    <tr>\n",
       "      <th>9</th>\n",
       "      <td>Yes</td>\n",
       "      <td>No</td>\n",
       "      <td>No</td>\n",
       "      <td>Yes</td>\n",
       "    </tr>\n",
       "  </tbody>\n",
       "</table>\n",
       "</div>"
      ],
      "text/plain": [
       "  male >40 hours >50 years >50k income\n",
       "0  Yes        No        No          No\n",
       "1  Yes        No        No          No\n",
       "2  Yes        No        No          No\n",
       "3  Yes        No       Yes          No\n",
       "4   No        No        No          No\n",
       "5   No        No        No          No\n",
       "6   No        No        No          No\n",
       "7  Yes       Yes       Yes         Yes\n",
       "8   No       Yes        No         Yes\n",
       "9  Yes        No        No         Yes"
      ]
     },
     "execution_count": 4,
     "metadata": {},
     "output_type": "execute_result"
    }
   ],
   "source": [
    "import numpy as np\n",
    "\n",
    "df['male'] = df['sex'].apply(lambda x : 'Yes' if x.lstrip() == \"Male\" else \"No\")\n",
    "df['>40 hours'] = np.where(df['hours-per-week']>40, 'Yes', 'No')\n",
    "df['>50 years'] = np.where(df['age']>50, 'Yes', 'No')\n",
    "\n",
    "# Target\n",
    "df['>50k income'] = df['income'].apply(lambda x : 'Yes' if x.lstrip() == '>50K' else \"No\")\n",
    "\n",
    "df_simpl = df[['male', '>40 hours','>50 years','>50k income']]\n",
    "df_simpl = df_simpl.head(10)\n",
    "df_simpl"
   ]
  },
  {
   "cell_type": "markdown",
   "id": "aa383c81-2a00-4c43-b7c0-ff5f1cb7bac8",
   "metadata": {},
   "source": [
    "## Find the first Decision Stump\n",
    "\n",
    "* In the first step we are calculating the gini index for each attribute\n",
    "* We are selecting the attribute as root node of our first decision stump, that shows the lowest gini index (highest gini gain)"
   ]
  },
  {
   "cell_type": "markdown",
   "id": "01b0c054-d467-4862-85e2-39142e13cd06",
   "metadata": {},
   "source": [
    "![title](img/images.svg)"
   ]
  },
  {
   "cell_type": "code",
   "execution_count": 5,
   "id": "77e4ebf6-8283-4a33-8bb1-b5369a3e4bfb",
   "metadata": {},
   "outputs": [
    {
     "name": "stdout",
     "output_type": "stream",
     "text": [
      "Calculated Gini indexes for each attribute of the data set:\n"
     ]
    },
    {
     "data": {
      "text/html": [
       "<div>\n",
       "<style scoped>\n",
       "    .dataframe tbody tr th:only-of-type {\n",
       "        vertical-align: middle;\n",
       "    }\n",
       "\n",
       "    .dataframe tbody tr th {\n",
       "        vertical-align: top;\n",
       "    }\n",
       "\n",
       "    .dataframe thead th {\n",
       "        text-align: right;\n",
       "    }\n",
       "</style>\n",
       "<table border=\"1\" class=\"dataframe\">\n",
       "  <thead>\n",
       "    <tr style=\"text-align: right;\">\n",
       "      <th></th>\n",
       "      <th>attribute</th>\n",
       "      <th>gini_index</th>\n",
       "    </tr>\n",
       "  </thead>\n",
       "  <tbody>\n",
       "    <tr>\n",
       "      <th>0</th>\n",
       "      <td>male</td>\n",
       "      <td>0.417</td>\n",
       "    </tr>\n",
       "    <tr>\n",
       "      <th>1</th>\n",
       "      <td>&gt;40 hours</td>\n",
       "      <td>0.175</td>\n",
       "    </tr>\n",
       "    <tr>\n",
       "      <th>2</th>\n",
       "      <td>&gt;50 years</td>\n",
       "      <td>0.400</td>\n",
       "    </tr>\n",
       "  </tbody>\n",
       "</table>\n",
       "</div>"
      ],
      "text/plain": [
       "   attribute  gini_index\n",
       "0       male       0.417\n",
       "1  >40 hours       0.175\n",
       "2  >50 years       0.400"
      ]
     },
     "metadata": {},
     "output_type": "display_data"
    },
    {
     "name": "stdout",
     "output_type": "stream",
     "text": [
      "Attribute for the root node of the stump: >40 hours\n"
     ]
    }
   ],
   "source": [
    "def calc_weighted_gini_index(attribute, df):\n",
    "    '''\n",
    "    Args:\n",
    "        df: the trainings dataset stored in a data frame\n",
    "        attribute: the chosen attribute for the root node of the tree\n",
    "    Return:\n",
    "        Gini_attribute: the gini index for the chosen attribute\n",
    "    '''\n",
    "    d_node = df[[attribute, '>50k income']]\n",
    "    \n",
    "    # number of records in the dataset (=10, for the simple example)\n",
    "    n = len(d_node)\n",
    "    \n",
    "    # number of values \"Yes\" and \"No\" for the target variable \">50k income\" in the root node\n",
    "    n_1 = len(d_node[d_node[attribute] == 'Yes'])\n",
    "    n_2 = len(d_node[d_node[attribute] == 'No'])\n",
    "\n",
    "    # count \"Yes\" and \"No\" values for the target variable \">50k income\" in each leafe\n",
    "    # left leafe, D_1\n",
    "    n_1_yes = len(d_node[(d_node[attribute] == 'Yes') & (d_node[\">50k income\"] == 'Yes')])\n",
    "    n_1_no = len(d_node[(d_node[attribute] == 'Yes') & (d_node[\">50k income\"] == 'No')])\n",
    "    \n",
    "    # right leafe, D_2\n",
    "    n_2_yes = len(d_node[(d_node[attribute] == 'No') & (d_node[\">50k income\"] == 'Yes')])\n",
    "    n_2_no = len(d_node[(d_node[attribute] == 'No') & (d_node[\">50k income\"] == 'No')])\n",
    "\n",
    "    # Gini index of the left leafe\n",
    "    Gini_1 = 1-(n_1_yes/(n_1_yes + n_1_no)) ** 2-(n_1_no/(n_1_yes + n_1_no)) ** 2\n",
    "    \n",
    "    # Gini index of the right leafe\n",
    "    Gini_2 = 1-(n_2_yes/(n_2_yes + n_2_no)) ** 2-(n_2_no/(n_2_yes + n_2_no)) ** 2\n",
    "\n",
    "    # weighted Gini index for the selected feature (=attribute) as root node\n",
    "    Gini_attribute = (n_1/n) * Gini_1 + (n_2/n) * Gini_2\n",
    "    Gini_attribute = round(Gini_attribute, 3)\n",
    "    \n",
    "    #print(f'Gini_{attribute} = {Gini_attribute}')\n",
    "    \n",
    "    return Gini_attribute\n",
    "\n",
    "\n",
    "def find_attribute_that_shows_the_smallest_gini_index(df):\n",
    "    '''\n",
    "    Args:\n",
    "        df: the trainings dataset stored in a data frame\n",
    "    Return:\n",
    "        selected_root_node_attribute: the attribute/feature that showed the lowest gini index\n",
    "    '''\n",
    "    ################################################################################################################\n",
    "    # calculate gini index for each attribute in the dataset and store them in a list\n",
    "    ################################################################################################################\n",
    "    attributes = []\n",
    "    gini_indexes = []\n",
    "\n",
    "    for attribute in df.columns[:-1]:\n",
    "        # calculate gini index for attribute as root note using the defined function \"calc_weighted_gini_index\"\n",
    "        gini_index = calc_weighted_gini_index(attribute, df)\n",
    "\n",
    "        attributes.append(attribute)\n",
    "        gini_indexes.append(gini_index)\n",
    "\n",
    "\n",
    "    ################################################################################################################    \n",
    "    # create a data frame using the just calculated gini index for each feature/attribute of the dataset\n",
    "    ################################################################################################################\n",
    "    print(\"Calculated Gini indexes for each attribute of the data set:\")\n",
    "    d_calculated_indexes = {'attribute':attributes,'gini_index':gini_indexes}\n",
    "    d_indexes_df = pd.DataFrame(d_calculated_indexes)\n",
    "    display(d_indexes_df)\n",
    "\n",
    "\n",
    "    # Find the attribute for the first stump, the attribute where the Gini index is \n",
    "    #lowest the thus the Gini gain is highest\")\n",
    "    selected_root_node_attribute = d_indexes_df.min()[\"attribute\"]\n",
    "    print(f\"Attribute for the root node of the stump: {selected_root_node_attribute}\")\n",
    "    \n",
    "    return selected_root_node_attribute\n",
    "\n",
    "################################################################################################################\n",
    "# to build the first stump we are using the orginial dataset as train dataset \n",
    "################################################################################################################\n",
    "df_step_1 = df_simpl\n",
    "\n",
    "selected_root_node_attribute = find_attribute_that_shows_the_smallest_gini_index(df_step_1)"
   ]
  },
  {
   "cell_type": "markdown",
   "id": "bbc1fc81-ae36-47d2-8290-0be72fa67864",
   "metadata": {},
   "source": [
    "## Calculate weighted error"
   ]
  },
  {
   "cell_type": "code",
   "execution_count": 6,
   "id": "c4d8b713-6989-4d70-9dc7-42957e34075a",
   "metadata": {},
   "outputs": [
    {
     "data": {
      "text/html": [
       "<div>\n",
       "<style scoped>\n",
       "    .dataframe tbody tr th:only-of-type {\n",
       "        vertical-align: middle;\n",
       "    }\n",
       "\n",
       "    .dataframe tbody tr th {\n",
       "        vertical-align: top;\n",
       "    }\n",
       "\n",
       "    .dataframe thead th {\n",
       "        text-align: right;\n",
       "    }\n",
       "</style>\n",
       "<table border=\"1\" class=\"dataframe\">\n",
       "  <thead>\n",
       "    <tr style=\"text-align: right;\">\n",
       "      <th></th>\n",
       "      <th>&gt;40 hours</th>\n",
       "      <th>&gt;50k income</th>\n",
       "      <th>sample_weight</th>\n",
       "      <th>chosen_stump_incorrect</th>\n",
       "      <th>error</th>\n",
       "    </tr>\n",
       "  </thead>\n",
       "  <tbody>\n",
       "    <tr>\n",
       "      <th>0</th>\n",
       "      <td>No</td>\n",
       "      <td>No</td>\n",
       "      <td>0.1</td>\n",
       "      <td>0</td>\n",
       "      <td>0.0</td>\n",
       "    </tr>\n",
       "    <tr>\n",
       "      <th>1</th>\n",
       "      <td>No</td>\n",
       "      <td>No</td>\n",
       "      <td>0.1</td>\n",
       "      <td>0</td>\n",
       "      <td>0.0</td>\n",
       "    </tr>\n",
       "    <tr>\n",
       "      <th>2</th>\n",
       "      <td>No</td>\n",
       "      <td>No</td>\n",
       "      <td>0.1</td>\n",
       "      <td>0</td>\n",
       "      <td>0.0</td>\n",
       "    </tr>\n",
       "    <tr>\n",
       "      <th>3</th>\n",
       "      <td>No</td>\n",
       "      <td>No</td>\n",
       "      <td>0.1</td>\n",
       "      <td>0</td>\n",
       "      <td>0.0</td>\n",
       "    </tr>\n",
       "    <tr>\n",
       "      <th>4</th>\n",
       "      <td>No</td>\n",
       "      <td>No</td>\n",
       "      <td>0.1</td>\n",
       "      <td>0</td>\n",
       "      <td>0.0</td>\n",
       "    </tr>\n",
       "    <tr>\n",
       "      <th>5</th>\n",
       "      <td>No</td>\n",
       "      <td>No</td>\n",
       "      <td>0.1</td>\n",
       "      <td>0</td>\n",
       "      <td>0.0</td>\n",
       "    </tr>\n",
       "    <tr>\n",
       "      <th>6</th>\n",
       "      <td>No</td>\n",
       "      <td>No</td>\n",
       "      <td>0.1</td>\n",
       "      <td>0</td>\n",
       "      <td>0.0</td>\n",
       "    </tr>\n",
       "    <tr>\n",
       "      <th>7</th>\n",
       "      <td>Yes</td>\n",
       "      <td>Yes</td>\n",
       "      <td>0.1</td>\n",
       "      <td>0</td>\n",
       "      <td>0.0</td>\n",
       "    </tr>\n",
       "    <tr>\n",
       "      <th>8</th>\n",
       "      <td>Yes</td>\n",
       "      <td>Yes</td>\n",
       "      <td>0.1</td>\n",
       "      <td>0</td>\n",
       "      <td>0.0</td>\n",
       "    </tr>\n",
       "    <tr>\n",
       "      <th>9</th>\n",
       "      <td>No</td>\n",
       "      <td>Yes</td>\n",
       "      <td>0.1</td>\n",
       "      <td>1</td>\n",
       "      <td>0.1</td>\n",
       "    </tr>\n",
       "  </tbody>\n",
       "</table>\n",
       "</div>"
      ],
      "text/plain": [
       "  >40 hours >50k income  sample_weight  chosen_stump_incorrect  error\n",
       "0        No          No            0.1                       0    0.0\n",
       "1        No          No            0.1                       0    0.0\n",
       "2        No          No            0.1                       0    0.0\n",
       "3        No          No            0.1                       0    0.0\n",
       "4        No          No            0.1                       0    0.0\n",
       "5        No          No            0.1                       0    0.0\n",
       "6        No          No            0.1                       0    0.0\n",
       "7       Yes         Yes            0.1                       0    0.0\n",
       "8       Yes         Yes            0.1                       0    0.0\n",
       "9        No         Yes            0.1                       1    0.1"
      ]
     },
     "metadata": {},
     "output_type": "display_data"
    },
    {
     "data": {
      "image/png": "[encoded data removed]",
      "text/plain": [
       "<Figure size 144x648 with 1 Axes>"
      ]
     },
     "metadata": {
      "needs_background": "light"
     },
     "output_type": "display_data"
    },
    {
     "name": "stdout",
     "output_type": "stream",
     "text": [
      "Error of the stump [>40 hours] = 0.1\n"
     ]
    }
   ],
   "source": [
    "import helper_functions\n",
    "\n",
    "def calculate_error_for_chosen_stump(df, selected_root_node_attribute): \n",
    "    '''\n",
    "    Attributes:\n",
    "        df: trainings data set\n",
    "        selected_root_node_attribute: name of the column used for the root node of the stump\n",
    "    \n",
    "    Return:\n",
    "        df_extended: df extended by the calculated weights and error\n",
    "        error: calculated error for the stump - sum of the weights of all samples that were misclassified by the decision stub\n",
    "    '''\n",
    "    # add column for the sample weight, for the first step its simply defined as 1/n, so the sum of all weights is 1\n",
    "    df[\"sample_weight\"] = 1/len(df)\n",
    "\n",
    "    df[selected_root_node_attribute]\n",
    "    df[\">50k income\"]\n",
    "\n",
    "    # in binary classification, we have two ways to build the tree. (1) That attribute and target value show the same value or (2) attribute and target value show the opposite value\n",
    "    # we choose the one which shows less errors\n",
    "\n",
    "    df[\"stump_1_incorrect_v1\"] = np.where(((df[selected_root_node_attribute] == \"Yes\") & (df[\">50k income\"] == \"Yes\")) |\n",
    "                                             ((df[selected_root_node_attribute] == \"No\") & (df[\">50k income\"] == \"No\")),0,1)\n",
    "    df[\"stump_1_incorrect_v2\"] = np.where(((df[selected_root_node_attribute] == \"Yes\") & (df[\">50k income\"] == \"No\")) |\n",
    "                                             ((df[selected_root_node_attribute] == \"No\") & (df[\">50k income\"] == \"Yes\")),0,1)\n",
    "\n",
    "    # select the stump with fewer samples misclassified\n",
    "    if sum(df['stump_1_incorrect_v1']) <= sum(df[\"stump_1_incorrect_v2\"]): \n",
    "        df[\"chosen_stump_incorrect\"] = df['stump_1_incorrect_v1']\n",
    "    else:\n",
    "        df[\"chosen_stump_incorrect\"] = df['stump_1_incorrect_v2']\n",
    "\n",
    "    # drop the columns for the two versions of the tree\n",
    "    df = df.drop(['stump_1_incorrect_v1', 'stump_1_incorrect_v2'], axis=1)\n",
    "\n",
    "    # calculate the error by multiplying sample weight and chosen_stump\n",
    "    df[\"error\"] = df[\"sample_weight\"] * df[\"chosen_stump_incorrect\"]\n",
    "    error = sum(df[\"error\"])\n",
    "\n",
    "    # data frame extended by the weights, errors, etc.\n",
    "    df_extended = df\n",
    "    \n",
    "    # display extended dataset\n",
    "    display(df_extended[[selected_root_node_attribute,\">50k income\",\"sample_weight\", \"chosen_stump_incorrect\", \"error\"]])\n",
    "    \n",
    "    # display matplotlib\n",
    "    helper_functions.plot_weights(df_extended)\n",
    "    \n",
    "    print(f'Error of the stump [{selected_root_node_attribute}] = {error}')\n",
    "\n",
    "    return df_extended, error\n",
    "\n",
    "# call function to calculate error for the selected stump\n",
    "df_extended_1, error = calculate_error_for_chosen_stump(df_step_1, selected_root_node_attribute)"
   ]
  },
  {
   "cell_type": "markdown",
   "id": "c93bf19b-9dea-4395-86b7-c20418acde9c",
   "metadata": {},
   "source": [
    "## Calculate amount of say of the stump\n",
    "\n",
    "Calculate weighted error rate of the weak classifier which defines with which weighting the predictions of the stump are considered in the entire ensemble model"
   ]
  },
  {
   "cell_type": "code",
   "execution_count": 7,
   "id": "a8386fd2-e07d-4fe9-8494-83c74d7868c3",
   "metadata": {},
   "outputs": [
    {
     "name": "stdout",
     "output_type": "stream",
     "text": [
      "Weighted error rate of the weak classifier / Amount of say = 1.099\n"
     ]
    },
    {
     "name": "stderr",
     "output_type": "stream",
     "text": [
      "C:\\Users\\z004j58u\\repos\\sonstiges\\Ada-Boost-Tutorial\\helper_functions.py:43: RuntimeWarning: divide by zero encountered in double_scalars\n",
      "  alpha_n = 1/2 * np.log((1-e)/e)\n",
      "C:\\Users\\z004j58u\\repos\\sonstiges\\Ada-Boost-Tutorial\\helper_functions.py:43: RuntimeWarning: divide by zero encountered in log\n",
      "  alpha_n = 1/2 * np.log((1-e)/e)\n"
     ]
    },
    {
     "data": {
      "image/png": "[encoded data removed]",
      "text/plain": [
       "<Figure size 432x288 with 1 Axes>"
      ]
     },
     "metadata": {
      "needs_background": "light"
     },
     "output_type": "display_data"
    }
   ],
   "source": [
    "import matplotlib.pyplot as plt\n",
    "from datetime import datetime\n",
    "\n",
    "# calculate the amount of say, the weighted error rate of the weak classifier\n",
    "alpha = 1/2 * np.log((1-error)/error)\n",
    "print(f'Weighted error rate of the weak classifier / Amount of say = {round(alpha,3)}')\n",
    "\n",
    "helper_functions.plot_alpha(alpha, error)"
   ]
  },
  {
   "cell_type": "markdown",
   "id": "bf63e7ea-ca82-4e53-bdc8-05814ddeb4e3",
   "metadata": {},
   "source": [
    "## Adjustment of the sample weights\n",
    "\n",
    "Samples where the current stump makes errors should be weighted more heavily when training the next stump"
   ]
  },
  {
   "cell_type": "code",
   "execution_count": 8,
   "id": "a7332bb4-5c83-4479-9a71-752fc0cfec44",
   "metadata": {},
   "outputs": [
    {
     "data": {
      "image/png": "[encoded data removed]",
      "text/plain": [
       "<Figure size 432x288 with 1 Axes>"
      ]
     },
     "metadata": {
      "needs_background": "light"
     },
     "output_type": "display_data"
    }
   ],
   "source": [
    "def plot_scale_of_weights(alpha, current_sample_weight, incorrect):\n",
    "\n",
    "    import math\n",
    "\n",
    "    alpha_list = []\n",
    "    new_weights = []\n",
    "\n",
    "    if incorrect == 1:\n",
    "        new_weight = current_sample_weight * math.exp(alpha)\n",
    "\n",
    "        for alpha_n in np.linspace(0, alpha*1.5, num=100):\n",
    "            scale = current_sample_weight * math.exp(alpha_n)\n",
    "\n",
    "            alpha_list.append(alpha_n)\n",
    "            new_weights.append(scale)\n",
    "    else:\n",
    "        new_weight = current_sample_weight * math.exp(-alpha)\n",
    "\n",
    "        for alpha_n in np.linspace(0, alpha*1.5, num=100):\n",
    "            scale = current_sample_weight * math.exp(-alpha_n)\n",
    "\n",
    "            alpha_list.append(alpha_n)\n",
    "            new_weights.append(scale)\n",
    "            \n",
    "            \n",
    "    font = {'family' : 'arial',\n",
    "            'weight' : 'normal',\n",
    "            'size'   : 15}\n",
    "\n",
    "    plt.rc('font', **font)\n",
    "\n",
    "    plt.plot(alpha_list, new_weights, color='black')\n",
    "    plt.plot(np.linspace(alpha, alpha, num=100), new_weights, color='red')\n",
    "    plt.plot(np.linspace(0, alpha*1.5, num=100), np.linspace(new_weight, new_weight, num=100), color='red')\n",
    "\n",
    "    #plt.ylabel('Alpha / Amount of say')\n",
    "    plt.xlabel('Alpha / Amount of say')\n",
    "    plt.title(f'New_weight (alpha = {round(alpha,3)}, current_weight = {round(current_sample_weight, 3)}) = {round(new_weight,3)}')\n",
    "    # define plot name\n",
    "    # datetime object containing current date and time\n",
    "    now = datetime.now()\n",
    "\n",
    "    # dd/mm/YY H:M:S\n",
    "    dt_string = now.strftime(\"%d_%m_%Y_%H_%M_%S\")\n",
    "\n",
    "    plt.savefig(r'.\\plots\\sample_weights_' + dt_string + '.svg')\n",
    "    plt.show()\n",
    "    \n",
    "    return new_weight\n",
    "    \n",
    "new_weight = plot_scale_of_weights(alpha, current_sample_weight=0.1, incorrect = 1)"
   ]
  },
  {
   "cell_type": "code",
   "execution_count": 9,
   "id": "9178c472-e971-4fa5-a00e-c988ff50d851",
   "metadata": {},
   "outputs": [
    {
     "data": {
      "image/png": "[encoded data removed]",
      "text/plain": [
       "<Figure size 432x288 with 1 Axes>"
      ]
     },
     "metadata": {
      "needs_background": "light"
     },
     "output_type": "display_data"
    },
    {
     "data": {
      "image/png": "[encoded data removed]",
      "text/plain": [
       "<Figure size 432x288 with 1 Axes>"
      ]
     },
     "metadata": {
      "needs_background": "light"
     },
     "output_type": "display_data"
    },
    {
     "data": {
      "image/png": "[encoded data removed]",
      "text/plain": [
       "<Figure size 432x288 with 1 Axes>"
      ]
     },
     "metadata": {
      "needs_background": "light"
     },
     "output_type": "display_data"
    },
    {
     "data": {
      "image/png": "[encoded data removed]",
      "text/plain": [
       "<Figure size 432x288 with 1 Axes>"
      ]
     },
     "metadata": {
      "needs_background": "light"
     },
     "output_type": "display_data"
    },
    {
     "data": {
      "image/png": "[encoded data removed]",
      "text/plain": [
       "<Figure size 432x288 with 1 Axes>"
      ]
     },
     "metadata": {
      "needs_background": "light"
     },
     "output_type": "display_data"
    },
    {
     "data": {
      "image/png": "[encoded data removed]",
      "text/plain": [
       "<Figure size 432x288 with 1 Axes>"
      ]
     },
     "metadata": {
      "needs_background": "light"
     },
     "output_type": "display_data"
    },
    {
     "data": {
      "image/png": "[encoded data removed]",
      "text/plain": [
       "<Figure size 432x288 with 1 Axes>"
      ]
     },
     "metadata": {
      "needs_background": "light"
     },
     "output_type": "display_data"
    },
    {
     "data": {
      "image/png": "[encoded data removed]",
      "text/plain": [
       "<Figure size 432x288 with 1 Axes>"
      ]
     },
     "metadata": {
      "needs_background": "light"
     },
     "output_type": "display_data"
    },
    {
     "data": {
      "image/png": "[encoded data removed]",
      "text/plain": [
       "<Figure size 432x288 with 1 Axes>"
      ]
     },
     "metadata": {
      "needs_background": "light"
     },
     "output_type": "display_data"
    },
    {
     "data": {
      "image/png": "[encoded data removed]",
      "text/plain": [
       "<Figure size 432x288 with 1 Axes>"
      ]
     },
     "metadata": {
      "needs_background": "light"
     },
     "output_type": "display_data"
    }
   ],
   "source": [
    "def update_sample_weights(df_extended_1):    \n",
    "    # calculate the new weights for the misclassified samples\n",
    "    def calc_new_sample_weight(x, alpha):\n",
    "\n",
    "        new_weight = plot_scale_of_weights(alpha, x[\"sample_weight\"], x[\"chosen_stump_incorrect\"])\n",
    "\n",
    "        return new_weight\n",
    "\n",
    "    df_extended_1[\"new_sample_weight\"] = df_extended_1.apply(lambda x: calc_new_sample_weight(x, alpha), axis=1)\n",
    "\n",
    "    df_extended_2 = df_extended_1[[\"male\", \">40 hours\", \">50 years\", \">50k income\", \"new_sample_weight\"]]\n",
    "    df_extended_2 = df_extended_2.rename(columns={\"new_sample_weight\": \"sample_weight\"}, errors=\"raise\")\n",
    "\n",
    "    # normalize weights\n",
    "    df_extended_2[\"sample_weight\"] = df_extended_2[\"sample_weight\"] * 1/df_extended_2[\"sample_weight\"].sum()\n",
    "    df_extended_2[\"sample_weight\"].sum()\n",
    "\n",
    "    return df_extended_2\n",
    "    \n",
    "df_extended_2 = update_sample_weights(df_extended_1)"
   ]
  },
  {
   "cell_type": "code",
   "execution_count": 10,
   "id": "ea098881-60dc-4993-946a-3ae30a63d850",
   "metadata": {},
   "outputs": [
    {
     "data": {
      "image/png": "[encoded data removed]",
      "text/plain": [
       "<Figure size 144x648 with 1 Axes>"
      ]
     },
     "metadata": {
      "needs_background": "light"
     },
     "output_type": "display_data"
    }
   ],
   "source": [
    "# plot new normalized weights\n",
    "helper_functions.plot_weights(df_extended_2)"
   ]
  },
  {
   "cell_type": "markdown",
   "id": "b5672818-63ff-4ee9-adcc-e3db503597a5",
   "metadata": {},
   "source": [
    "## Create a new bootstraped dataset"
   ]
  },
  {
   "cell_type": "code",
   "execution_count": 11,
   "id": "3af8de71-1d3e-496e-b65d-5a9725c6638a",
   "metadata": {},
   "outputs": [
    {
     "data": {
      "text/html": [
       "<div>\n",
       "<style scoped>\n",
       "    .dataframe tbody tr th:only-of-type {\n",
       "        vertical-align: middle;\n",
       "    }\n",
       "\n",
       "    .dataframe tbody tr th {\n",
       "        vertical-align: top;\n",
       "    }\n",
       "\n",
       "    .dataframe thead th {\n",
       "        text-align: right;\n",
       "    }\n",
       "</style>\n",
       "<table border=\"1\" class=\"dataframe\">\n",
       "  <thead>\n",
       "    <tr style=\"text-align: right;\">\n",
       "      <th></th>\n",
       "      <th>male</th>\n",
       "      <th>&gt;40 hours</th>\n",
       "      <th>&gt;50 years</th>\n",
       "      <th>&gt;50k income</th>\n",
       "      <th>sample_weight</th>\n",
       "      <th>cum_sum_upper</th>\n",
       "      <th>cum_sum_low</th>\n",
       "    </tr>\n",
       "  </thead>\n",
       "  <tbody>\n",
       "    <tr>\n",
       "      <th>0</th>\n",
       "      <td>Yes</td>\n",
       "      <td>No</td>\n",
       "      <td>No</td>\n",
       "      <td>No</td>\n",
       "      <td>0.055556</td>\n",
       "      <td>0.055556</td>\n",
       "      <td>0.000000</td>\n",
       "    </tr>\n",
       "    <tr>\n",
       "      <th>1</th>\n",
       "      <td>Yes</td>\n",
       "      <td>No</td>\n",
       "      <td>No</td>\n",
       "      <td>No</td>\n",
       "      <td>0.055556</td>\n",
       "      <td>0.111111</td>\n",
       "      <td>0.055556</td>\n",
       "    </tr>\n",
       "    <tr>\n",
       "      <th>2</th>\n",
       "      <td>Yes</td>\n",
       "      <td>No</td>\n",
       "      <td>No</td>\n",
       "      <td>No</td>\n",
       "      <td>0.055556</td>\n",
       "      <td>0.166667</td>\n",
       "      <td>0.111111</td>\n",
       "    </tr>\n",
       "    <tr>\n",
       "      <th>3</th>\n",
       "      <td>Yes</td>\n",
       "      <td>No</td>\n",
       "      <td>Yes</td>\n",
       "      <td>No</td>\n",
       "      <td>0.055556</td>\n",
       "      <td>0.222222</td>\n",
       "      <td>0.166667</td>\n",
       "    </tr>\n",
       "    <tr>\n",
       "      <th>4</th>\n",
       "      <td>No</td>\n",
       "      <td>No</td>\n",
       "      <td>No</td>\n",
       "      <td>No</td>\n",
       "      <td>0.055556</td>\n",
       "      <td>0.277778</td>\n",
       "      <td>0.222222</td>\n",
       "    </tr>\n",
       "    <tr>\n",
       "      <th>5</th>\n",
       "      <td>No</td>\n",
       "      <td>No</td>\n",
       "      <td>No</td>\n",
       "      <td>No</td>\n",
       "      <td>0.055556</td>\n",
       "      <td>0.333333</td>\n",
       "      <td>0.277778</td>\n",
       "    </tr>\n",
       "    <tr>\n",
       "      <th>6</th>\n",
       "      <td>No</td>\n",
       "      <td>No</td>\n",
       "      <td>No</td>\n",
       "      <td>No</td>\n",
       "      <td>0.055556</td>\n",
       "      <td>0.388889</td>\n",
       "      <td>0.333333</td>\n",
       "    </tr>\n",
       "    <tr>\n",
       "      <th>7</th>\n",
       "      <td>Yes</td>\n",
       "      <td>Yes</td>\n",
       "      <td>Yes</td>\n",
       "      <td>Yes</td>\n",
       "      <td>0.055556</td>\n",
       "      <td>0.444444</td>\n",
       "      <td>0.388889</td>\n",
       "    </tr>\n",
       "    <tr>\n",
       "      <th>8</th>\n",
       "      <td>No</td>\n",
       "      <td>Yes</td>\n",
       "      <td>No</td>\n",
       "      <td>Yes</td>\n",
       "      <td>0.055556</td>\n",
       "      <td>0.500000</td>\n",
       "      <td>0.444444</td>\n",
       "    </tr>\n",
       "    <tr>\n",
       "      <th>9</th>\n",
       "      <td>Yes</td>\n",
       "      <td>No</td>\n",
       "      <td>No</td>\n",
       "      <td>Yes</td>\n",
       "      <td>0.500000</td>\n",
       "      <td>1.000000</td>\n",
       "      <td>0.500000</td>\n",
       "    </tr>\n",
       "  </tbody>\n",
       "</table>\n",
       "</div>"
      ],
      "text/plain": [
       "  male >40 hours >50 years >50k income  sample_weight  cum_sum_upper  \\\n",
       "0  Yes        No        No          No       0.055556       0.055556   \n",
       "1  Yes        No        No          No       0.055556       0.111111   \n",
       "2  Yes        No        No          No       0.055556       0.166667   \n",
       "3  Yes        No       Yes          No       0.055556       0.222222   \n",
       "4   No        No        No          No       0.055556       0.277778   \n",
       "5   No        No        No          No       0.055556       0.333333   \n",
       "6   No        No        No          No       0.055556       0.388889   \n",
       "7  Yes       Yes       Yes         Yes       0.055556       0.444444   \n",
       "8   No       Yes        No         Yes       0.055556       0.500000   \n",
       "9  Yes        No        No         Yes       0.500000       1.000000   \n",
       "\n",
       "   cum_sum_low  \n",
       "0     0.000000  \n",
       "1     0.055556  \n",
       "2     0.111111  \n",
       "3     0.166667  \n",
       "4     0.222222  \n",
       "5     0.277778  \n",
       "6     0.333333  \n",
       "7     0.388889  \n",
       "8     0.444444  \n",
       "9     0.500000  "
      ]
     },
     "execution_count": 11,
     "metadata": {},
     "output_type": "execute_result"
    }
   ],
   "source": [
    "import random\n",
    "\n",
    "# define bins for selecting new instances\n",
    "df_extended_2[\"cum_sum_upper\"] = df_extended_2[\"sample_weight\"].cumsum()\n",
    "df_extended_2[\"cum_sum_low\"] = [0] + df_extended_2[\"cum_sum_upper\"][0:9].to_list()\n",
    "\n",
    "df_extended_2"
   ]
  },
  {
   "cell_type": "code",
   "execution_count": 12,
   "id": "a9304de5-bbdd-4a1a-a643-4c7f1d9a387e",
   "metadata": {},
   "outputs": [
    {
     "data": {
      "text/html": [
       "<div>\n",
       "<style scoped>\n",
       "    .dataframe tbody tr th:only-of-type {\n",
       "        vertical-align: middle;\n",
       "    }\n",
       "\n",
       "    .dataframe tbody tr th {\n",
       "        vertical-align: top;\n",
       "    }\n",
       "\n",
       "    .dataframe thead th {\n",
       "        text-align: right;\n",
       "    }\n",
       "</style>\n",
       "<table border=\"1\" class=\"dataframe\">\n",
       "  <thead>\n",
       "    <tr style=\"text-align: right;\">\n",
       "      <th></th>\n",
       "      <th>male</th>\n",
       "      <th>&gt;40 hours</th>\n",
       "      <th>&gt;50 years</th>\n",
       "      <th>&gt;50k income</th>\n",
       "      <th>sample_weight</th>\n",
       "      <th>cum_sum_upper</th>\n",
       "      <th>cum_sum_low</th>\n",
       "    </tr>\n",
       "  </thead>\n",
       "  <tbody>\n",
       "    <tr>\n",
       "      <th>0</th>\n",
       "      <td>Yes</td>\n",
       "      <td>Yes</td>\n",
       "      <td>Yes</td>\n",
       "      <td>Yes</td>\n",
       "      <td>0.055556</td>\n",
       "      <td>0.444444</td>\n",
       "      <td>0.388889</td>\n",
       "    </tr>\n",
       "    <tr>\n",
       "      <th>1</th>\n",
       "      <td>No</td>\n",
       "      <td>Yes</td>\n",
       "      <td>No</td>\n",
       "      <td>Yes</td>\n",
       "      <td>0.055556</td>\n",
       "      <td>0.500000</td>\n",
       "      <td>0.444444</td>\n",
       "    </tr>\n",
       "    <tr>\n",
       "      <th>2</th>\n",
       "      <td>Yes</td>\n",
       "      <td>No</td>\n",
       "      <td>No</td>\n",
       "      <td>Yes</td>\n",
       "      <td>0.500000</td>\n",
       "      <td>1.000000</td>\n",
       "      <td>0.500000</td>\n",
       "    </tr>\n",
       "    <tr>\n",
       "      <th>3</th>\n",
       "      <td>Yes</td>\n",
       "      <td>No</td>\n",
       "      <td>No</td>\n",
       "      <td>Yes</td>\n",
       "      <td>0.500000</td>\n",
       "      <td>1.000000</td>\n",
       "      <td>0.500000</td>\n",
       "    </tr>\n",
       "    <tr>\n",
       "      <th>4</th>\n",
       "      <td>No</td>\n",
       "      <td>Yes</td>\n",
       "      <td>No</td>\n",
       "      <td>Yes</td>\n",
       "      <td>0.055556</td>\n",
       "      <td>0.500000</td>\n",
       "      <td>0.444444</td>\n",
       "    </tr>\n",
       "    <tr>\n",
       "      <th>5</th>\n",
       "      <td>Yes</td>\n",
       "      <td>No</td>\n",
       "      <td>No</td>\n",
       "      <td>No</td>\n",
       "      <td>0.055556</td>\n",
       "      <td>0.166667</td>\n",
       "      <td>0.111111</td>\n",
       "    </tr>\n",
       "    <tr>\n",
       "      <th>6</th>\n",
       "      <td>Yes</td>\n",
       "      <td>No</td>\n",
       "      <td>No</td>\n",
       "      <td>Yes</td>\n",
       "      <td>0.500000</td>\n",
       "      <td>1.000000</td>\n",
       "      <td>0.500000</td>\n",
       "    </tr>\n",
       "    <tr>\n",
       "      <th>7</th>\n",
       "      <td>Yes</td>\n",
       "      <td>No</td>\n",
       "      <td>No</td>\n",
       "      <td>Yes</td>\n",
       "      <td>0.500000</td>\n",
       "      <td>1.000000</td>\n",
       "      <td>0.500000</td>\n",
       "    </tr>\n",
       "    <tr>\n",
       "      <th>8</th>\n",
       "      <td>Yes</td>\n",
       "      <td>No</td>\n",
       "      <td>No</td>\n",
       "      <td>No</td>\n",
       "      <td>0.055556</td>\n",
       "      <td>0.055556</td>\n",
       "      <td>0.000000</td>\n",
       "    </tr>\n",
       "    <tr>\n",
       "      <th>9</th>\n",
       "      <td>Yes</td>\n",
       "      <td>No</td>\n",
       "      <td>Yes</td>\n",
       "      <td>No</td>\n",
       "      <td>0.055556</td>\n",
       "      <td>0.222222</td>\n",
       "      <td>0.166667</td>\n",
       "    </tr>\n",
       "  </tbody>\n",
       "</table>\n",
       "</div>"
      ],
      "text/plain": [
       "  male >40 hours >50 years >50k income  sample_weight  cum_sum_upper  \\\n",
       "0  Yes       Yes       Yes         Yes       0.055556       0.444444   \n",
       "1   No       Yes        No         Yes       0.055556       0.500000   \n",
       "2  Yes        No        No         Yes       0.500000       1.000000   \n",
       "3  Yes        No        No         Yes       0.500000       1.000000   \n",
       "4   No       Yes        No         Yes       0.055556       0.500000   \n",
       "5  Yes        No        No          No       0.055556       0.166667   \n",
       "6  Yes        No        No         Yes       0.500000       1.000000   \n",
       "7  Yes        No        No         Yes       0.500000       1.000000   \n",
       "8  Yes        No        No          No       0.055556       0.055556   \n",
       "9  Yes        No       Yes          No       0.055556       0.222222   \n",
       "\n",
       "   cum_sum_low  \n",
       "0     0.388889  \n",
       "1     0.444444  \n",
       "2     0.500000  \n",
       "3     0.500000  \n",
       "4     0.444444  \n",
       "5     0.111111  \n",
       "6     0.500000  \n",
       "7     0.500000  \n",
       "8     0.000000  \n",
       "9     0.166667  "
      ]
     },
     "execution_count": 12,
     "metadata": {},
     "output_type": "execute_result"
    }
   ],
   "source": [
    "# create new dataset\n",
    "import random\n",
    "\n",
    "new_data_set = []\n",
    "\n",
    "for i in range(0,len(df_extended_2),1):\n",
    "    random_number = random.randint(0, 100)*0.01\n",
    "    \n",
    "    if i == 0:\n",
    "        picked_instance = df_extended_2[(df_extended_2[\"cum_sum_low\"]<random_number) & (df_extended_2[\"cum_sum_upper\"]>random_number)]\n",
    "        new_data_set = picked_instance\n",
    "    else:\n",
    "        picked_instance = df_extended_2[(df_extended_2[\"cum_sum_low\"]<random_number) & (df_extended_2[\"cum_sum_upper\"]>random_number)]\n",
    "        new_data_set = pd.concat([new_data_set, picked_instance], ignore_index=True)\n",
    "            \n",
    "new_data_set"
   ]
  },
  {
   "cell_type": "markdown",
   "id": "635bb0af-71aa-4541-aa3b-6ef643a9213c",
   "metadata": {},
   "source": [
    "## Use the new dataset to find the next stump"
   ]
  },
  {
   "cell_type": "code",
   "execution_count": 13,
   "id": "dcefb2a4-2343-4722-b9df-99c570c9366c",
   "metadata": {},
   "outputs": [
    {
     "name": "stdout",
     "output_type": "stream",
     "text": [
      "Calculated Gini indexes for each attribute of the data set:\n"
     ]
    },
    {
     "data": {
      "text/html": [
       "<div>\n",
       "<style scoped>\n",
       "    .dataframe tbody tr th:only-of-type {\n",
       "        vertical-align: middle;\n",
       "    }\n",
       "\n",
       "    .dataframe tbody tr th {\n",
       "        vertical-align: top;\n",
       "    }\n",
       "\n",
       "    .dataframe thead th {\n",
       "        text-align: right;\n",
       "    }\n",
       "</style>\n",
       "<table border=\"1\" class=\"dataframe\">\n",
       "  <thead>\n",
       "    <tr style=\"text-align: right;\">\n",
       "      <th></th>\n",
       "      <th>attribute</th>\n",
       "      <th>gini_index</th>\n",
       "    </tr>\n",
       "  </thead>\n",
       "  <tbody>\n",
       "    <tr>\n",
       "      <th>0</th>\n",
       "      <td>male</td>\n",
       "      <td>0.375</td>\n",
       "    </tr>\n",
       "    <tr>\n",
       "      <th>1</th>\n",
       "      <td>&gt;50 years</td>\n",
       "      <td>0.400</td>\n",
       "    </tr>\n",
       "  </tbody>\n",
       "</table>\n",
       "</div>"
      ],
      "text/plain": [
       "   attribute  gini_index\n",
       "0       male       0.375\n",
       "1  >50 years       0.400"
      ]
     },
     "metadata": {},
     "output_type": "display_data"
    },
    {
     "name": "stdout",
     "output_type": "stream",
     "text": [
      "Attribute for the root node of the stump: >50 years\n"
     ]
    }
   ],
   "source": [
    "################################################################################################################\n",
    "# find the root node for the second stump\n",
    "################################################################################################################\n",
    "df_step_2 = new_data_set[[\"male\", \">50 years\", \">50k income\"]]\n",
    "\n",
    "selected_root_node_attribute_2 = find_attribute_that_shows_the_smallest_gini_index(df_step_2)"
   ]
  },
  {
   "cell_type": "code",
   "execution_count": 18,
   "id": "f2f0fb2d-4cce-4880-be77-9e8ba2b74642",
   "metadata": {},
   "outputs": [
    {
     "data": {
      "text/html": [
       "<div>\n",
       "<style scoped>\n",
       "    .dataframe tbody tr th:only-of-type {\n",
       "        vertical-align: middle;\n",
       "    }\n",
       "\n",
       "    .dataframe tbody tr th {\n",
       "        vertical-align: top;\n",
       "    }\n",
       "\n",
       "    .dataframe thead th {\n",
       "        text-align: right;\n",
       "    }\n",
       "</style>\n",
       "<table border=\"1\" class=\"dataframe\">\n",
       "  <thead>\n",
       "    <tr style=\"text-align: right;\">\n",
       "      <th></th>\n",
       "      <th>&gt;50 years</th>\n",
       "      <th>&gt;50k income</th>\n",
       "      <th>sample_weight</th>\n",
       "      <th>chosen_stump_incorrect</th>\n",
       "      <th>error</th>\n",
       "    </tr>\n",
       "  </thead>\n",
       "  <tbody>\n",
       "    <tr>\n",
       "      <th>0</th>\n",
       "      <td>Yes</td>\n",
       "      <td>Yes</td>\n",
       "      <td>0.1</td>\n",
       "      <td>1</td>\n",
       "      <td>0.1</td>\n",
       "    </tr>\n",
       "    <tr>\n",
       "      <th>1</th>\n",
       "      <td>No</td>\n",
       "      <td>Yes</td>\n",
       "      <td>0.1</td>\n",
       "      <td>0</td>\n",
       "      <td>0.0</td>\n",
       "    </tr>\n",
       "    <tr>\n",
       "      <th>2</th>\n",
       "      <td>No</td>\n",
       "      <td>Yes</td>\n",
       "      <td>0.1</td>\n",
       "      <td>0</td>\n",
       "      <td>0.0</td>\n",
       "    </tr>\n",
       "    <tr>\n",
       "      <th>3</th>\n",
       "      <td>No</td>\n",
       "      <td>Yes</td>\n",
       "      <td>0.1</td>\n",
       "      <td>0</td>\n",
       "      <td>0.0</td>\n",
       "    </tr>\n",
       "    <tr>\n",
       "      <th>4</th>\n",
       "      <td>No</td>\n",
       "      <td>Yes</td>\n",
       "      <td>0.1</td>\n",
       "      <td>0</td>\n",
       "      <td>0.0</td>\n",
       "    </tr>\n",
       "    <tr>\n",
       "      <th>5</th>\n",
       "      <td>No</td>\n",
       "      <td>No</td>\n",
       "      <td>0.1</td>\n",
       "      <td>1</td>\n",
       "      <td>0.1</td>\n",
       "    </tr>\n",
       "    <tr>\n",
       "      <th>6</th>\n",
       "      <td>No</td>\n",
       "      <td>Yes</td>\n",
       "      <td>0.1</td>\n",
       "      <td>0</td>\n",
       "      <td>0.0</td>\n",
       "    </tr>\n",
       "    <tr>\n",
       "      <th>7</th>\n",
       "      <td>No</td>\n",
       "      <td>Yes</td>\n",
       "      <td>0.1</td>\n",
       "      <td>0</td>\n",
       "      <td>0.0</td>\n",
       "    </tr>\n",
       "    <tr>\n",
       "      <th>8</th>\n",
       "      <td>No</td>\n",
       "      <td>No</td>\n",
       "      <td>0.1</td>\n",
       "      <td>1</td>\n",
       "      <td>0.1</td>\n",
       "    </tr>\n",
       "    <tr>\n",
       "      <th>9</th>\n",
       "      <td>Yes</td>\n",
       "      <td>No</td>\n",
       "      <td>0.1</td>\n",
       "      <td>0</td>\n",
       "      <td>0.0</td>\n",
       "    </tr>\n",
       "  </tbody>\n",
       "</table>\n",
       "</div>"
      ],
      "text/plain": [
       "  >50 years >50k income  sample_weight  chosen_stump_incorrect  error\n",
       "0       Yes         Yes            0.1                       1    0.1\n",
       "1        No         Yes            0.1                       0    0.0\n",
       "2        No         Yes            0.1                       0    0.0\n",
       "3        No         Yes            0.1                       0    0.0\n",
       "4        No         Yes            0.1                       0    0.0\n",
       "5        No          No            0.1                       1    0.1\n",
       "6        No         Yes            0.1                       0    0.0\n",
       "7        No         Yes            0.1                       0    0.0\n",
       "8        No          No            0.1                       1    0.1\n",
       "9       Yes          No            0.1                       0    0.0"
      ]
     },
     "metadata": {},
     "output_type": "display_data"
    },
    {
     "data": {
      "image/png": "[encoded data removed]",
      "text/plain": [
       "<Figure size 144x648 with 1 Axes>"
      ]
     },
     "metadata": {
      "needs_background": "light"
     },
     "output_type": "display_data"
    },
    {
     "name": "stdout",
     "output_type": "stream",
     "text": [
      "Error of the stump [>50 years] = 0.30000000000000004\n"
     ]
    }
   ],
   "source": [
    "################################################################################################################\n",
    "# 2. calculate error for the selected stump\n",
    "################################################################################################################\n",
    "df_extended_new_1, error_step_2 = calculate_error_for_chosen_stump(df_step_2, selected_root_node_attribute_2)"
   ]
  },
  {
   "cell_type": "code",
   "execution_count": 19,
   "id": "c4a8921f-afbe-4bfe-9e88-b4b40001ef61",
   "metadata": {},
   "outputs": [
    {
     "name": "stdout",
     "output_type": "stream",
     "text": [
      "Amount of say for step 2 is: 0.424\n"
     ]
    }
   ],
   "source": [
    "################################################################################################################\n",
    "# 3. calculate the amount of say, the weighted error rate of the weak classifier\n",
    "################################################################################################################\n",
    "alpha_step_2 = 1/2 * np.log((1-error_step_2)/error_step_2)\n",
    "print(f\"Amount of say for step 2 is: {round(alpha_step_2, 3)}\")"
   ]
  },
  {
   "cell_type": "markdown",
   "id": "09f6ad9d-4440-4cc0-ae26-6f7cecd25228",
   "metadata": {},
   "source": [
    "## Build the ensemble model"
   ]
  },
  {
   "cell_type": "code",
   "execution_count": 20,
   "id": "a1786952-d091-4785-bad7-0e240ad44b54",
   "metadata": {},
   "outputs": [
    {
     "name": "stdout",
     "output_type": "stream",
     "text": [
      "Amount of say for the first stump: 1.099\n",
      "Amount of say for the second stump: 0.424\n",
      "The person has an income of more than 50 k\n"
     ]
    }
   ],
   "source": [
    "alpha_step_1 = alpha\n",
    "print(f\"Amount of say for the first stump: {round(alpha_step_1,3)}\")\n",
    "      \n",
    "alpha_step_2 = alpha_step_2\n",
    "print(f\"Amount of say for the second stump: {round(alpha_step_2,3)}\")\n",
    "\n",
    "\n",
    "##########################################################################################\n",
    "# Make a prediction:\n",
    "# Suppose a person lives in the U.S., is 30 years old, and works about 42 hours per week.\n",
    "##########################################################################################\n",
    "\n",
    "# the first stump uses the hours worked per week (>40 hours) as the root node\n",
    "# if the regular working hours per week is above 40 hours, the stump would say that the person earns more than 50 k\n",
    "# otherwise, the income would be classified as below 50 k\n",
    "F_1 = 1\n",
    "\n",
    "# the second stump uses the age (>50 years) as root node\n",
    "# if you are over 50 years old, you are more likely to have an income of more than 50 k\n",
    "# in this case, our second weak learner would classifier the target variable (>50 k income) as a 'Yes' or 1\n",
    "# otherwise as a 'No' or 0\n",
    "F_2 = 0\n",
    "\n",
    "# calculate the result of the ensemble model\n",
    "F_over_50_k = alpha_step_1 * 1 + alpha_step_2 * 0\n",
    "F_below_50_k = alpha_step_1 * 0 + alpha_step_2 * 1\n",
    "\n",
    "if F_over_50_k > F_below_50_k:\n",
    "    print(\"The person has an income of more than 50 k\")\n",
    "else:\n",
    "    print(\"The person has an income below 50 k\")"
   ]
  },
  {
   "cell_type": "code",
   "execution_count": 21,
   "id": "28474aba-6a45-4e51-a8b0-42c3ae4c367e",
   "metadata": {},
   "outputs": [
    {
     "name": "stderr",
     "output_type": "stream",
     "text": [
      "warning: LF will be replaced by CRLF in ada-boost-tutorial.ipynb.\n",
      "The file will have its original line endings in your working directory\n"
     ]
    },
    {
     "name": "stdout",
     "output_type": "stream",
     "text": [
      "[main b1c56f0] update\n",
      " 2 files changed, 1180 insertions(+), 133 deletions(-)\n",
      " create mode 100644 plots/weights_31_07_2022_21_07_02.svg\n"
     ]
    },
    {
     "name": "stderr",
     "output_type": "stream",
     "text": [
      "To github.com:polzerdo55862/Ada-Boost-Tutorial.git\n",
      "   6f584a4..b1c56f0  main -> main\n"
     ]
    }
   ],
   "source": [
    "!git add .\n",
    "!git config git.mail \"dmnkplzr@googlemail.com\"\n",
    "!git config git.name \"Dominik Polzer\"\n",
    "!git commit -m \"update\"\n",
    "!git push"
   ]
  },
  {
   "cell_type": "code",
   "execution_count": null,
   "id": "527fd45c-4b79-4c68-8beb-416a81896156",
   "metadata": {},
   "outputs": [],
   "source": []
  }
 ],
 "metadata": {
  "kernelspec": {
   "display_name": "Python 3 (ipykernel)",
   "language": "python",
   "name": "python3"
  },
  "language_info": {
   "codemirror_mode": {
    "name": "ipython",
    "version": 3
   },
   "file_extension": ".py",
   "mimetype": "text/x-python",
   "name": "python",
   "nbconvert_exporter": "python",
   "pygments_lexer": "ipython3",
   "version": "3.10.5"
  }
 },
 "nbformat": 4,
 "nbformat_minor": 5
}
